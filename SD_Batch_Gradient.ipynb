{
 "cells": [
  {
   "cell_type": "markdown",
   "metadata": {},
   "source": [
    "# Batch Gradient Descent "
   ]
  },
  {
   "cell_type": "markdown",
   "metadata": {},
   "source": [
    "La Descente de Gradient Batch travaille sur l'ensemble de données : "
   ]
  },
  {
   "cell_type": "code",
   "execution_count": 1,
   "metadata": {},
   "outputs": [],
   "source": [
    "import numpy as np\n",
    "import matplotlib.pyplot as plt\n",
    "from sklearn.datasets import make_regression\n",
    "\n",
    "%matplotlib inline\n",
    "plt.style.use(['ggplot'])"
   ]
  },
  {
   "cell_type": "markdown",
   "metadata": {},
   "source": [
    "Création d'un jeu de données"
   ]
  },
  {
   "cell_type": "code",
   "execution_count": 2,
   "metadata": {
    "scrolled": false
   },
   "outputs": [
    {
     "data": {
      "image/png": "[encoded data removed]",
      "text/plain": [
       "<Figure size 432x288 with 1 Axes>"
      ]
     },
     "metadata": {
      "needs_background": "light"
     },
     "output_type": "display_data"
    }
   ],
   "source": [
    "x,y = make_regression(n_samples=50, n_features=1, noise=30, random_state=100)\n",
    "y = y.reshape(y.shape[0],1)\n",
    "plt.plot(x,y,'.',c='green');"
   ]
  },
  {
   "cell_type": "markdown",
   "metadata": {},
   "source": [
    "Ajout d'un vecteur de biais pour le pente de la régression : $[1]$"
   ]
  },
  {
   "cell_type": "code",
   "execution_count": 3,
   "metadata": {},
   "outputs": [],
   "source": [
    "X = np.c_[x, np.ones((50,1))] # permet de concaténer"
   ]
  },
  {
   "cell_type": "markdown",
   "metadata": {},
   "source": [
    "**Rappel** – Formule de calcul par les MCO :\n",
    "\n",
    "$$ \\beta_{MCO} = (X'X)X'Y$$"
   ]
  },
  {
   "cell_type": "code",
   "execution_count": 4,
   "metadata": {},
   "outputs": [],
   "source": [
    "def mco(X,y):\n",
    "    return np.linalg.inv(X.T.dot(X)).dot(X.T).dot(y)"
   ]
  },
  {
   "cell_type": "code",
   "execution_count": 5,
   "metadata": {},
   "outputs": [],
   "source": [
    "beta = mco(X,y)\n",
    "y_predict = X.dot(beta)"
   ]
  },
  {
   "cell_type": "code",
   "execution_count": 6,
   "metadata": {
    "scrolled": true
   },
   "outputs": [
    {
     "data": {
      "image/png": "[encoded data removed]",
      "text/plain": [
       "<Figure size 432x288 with 1 Axes>"
      ]
     },
     "metadata": {
      "needs_background": "light"
     },
     "output_type": "display_data"
    }
   ],
   "source": [
    "plt.plot(x,y_predict,'r-')\n",
    "plt.plot(x,y,'b.');"
   ]
  },
  {
   "cell_type": "markdown",
   "metadata": {},
   "source": [
    "Calcul de l'erreur de prédiction : "
   ]
  },
  {
   "cell_type": "code",
   "execution_count": 7,
   "metadata": {},
   "outputs": [],
   "source": [
    "def loss(X,y,beta):\n",
    "    n = len(y)\n",
    "    predictions = X.dot(beta)\n",
    "    cost = (1/(2*n)) * np.sum((predictions-y)**2)\n",
    "    \n",
    "    return cost"
   ]
  },
  {
   "cell_type": "code",
   "execution_count": 8,
   "metadata": {
    "scrolled": true
   },
   "outputs": [
    {
     "name": "stdout",
     "output_type": "stream",
     "text": [
      "L'erreur du modèle est de : 593.0\n"
     ]
    }
   ],
   "source": [
    "print(\"L'erreur du modèle est de : {}\" .format(round(loss(X,y,beta)),4))"
   ]
  },
  {
   "cell_type": "markdown",
   "metadata": {},
   "source": [
    "Pour calculer la descente de Gradient : \n",
    "\n",
    "\n"
   ]
  },
  {
   "cell_type": "markdown",
   "metadata": {},
   "source": [
    " \n",
    "$$\\beta_{t+1} = \\beta_t - \\eta \\frac{\\partial Loss }{\\partial \\beta}$$\n"
   ]
  },
  {
   "cell_type": "markdown",
   "metadata": {},
   "source": [
    "Ou le Gradient se calcule par :"
   ]
  },
  {
   "cell_type": "markdown",
   "metadata": {},
   "source": [
    "$$\\frac{\\partial Loss}{\\partial \\beta} = \\frac{1}n  \\hspace{0.1cm} X^T (X\\beta - y) $$"
   ]
  },
  {
   "cell_type": "code",
   "execution_count": 9,
   "metadata": {},
   "outputs": [],
   "source": [
    "def gradient_descent(X,y,beta,learning_rate=0.01,iterations=100):\n",
    "    '''\n",
    "    X = Matrice de données avec colonne de biais\n",
    "    y = Vecteur des valeurs à prédire\n",
    "    beta = Vecteur de beta avec : np.random.randn(j,1)\n",
    "    learning_rate  = taux d'apprentissage pour fixer la vitesse de convergence\n",
    "    iterations = nombre d'iterations\n",
    "    \n",
    "    Retourne les coefficients beta estimés, un tableau de la loss et des coefficients\n",
    "    à chaque itération.\n",
    "    '''\n",
    "    \n",
    "    j = X.shape[1]\n",
    "    n = len(y)\n",
    "    cost_history = np.zeros(iterations)\n",
    "    theta_history = np.zeros((iterations,j))\n",
    "    \n",
    "    for it in range(iterations):\n",
    "        \n",
    "        prediction = np.dot(X,beta)\n",
    "        \n",
    "        beta = beta - learning_rate * (1/n) * (X.T.dot((prediction - y)))\n",
    "        \n",
    "        theta_history[it,:] = beta.T\n",
    "        cost_history[it] = loss(X,y,beta)\n",
    "        \n",
    "    return beta, cost_history, theta_history"
   ]
  },
  {
   "cell_type": "markdown",
   "metadata": {},
   "source": [
    "Initialisation de la descente de Gradient : "
   ]
  },
  {
   "cell_type": "code",
   "execution_count": 10,
   "metadata": {
    "scrolled": true
   },
   "outputs": [
    {
     "name": "stdout",
     "output_type": "stream",
     "text": [
      "[[ 9]\n",
      " [16]]\n"
     ]
    }
   ],
   "source": [
    "np.random.seed(200)\n",
    "\n",
    "beta_init = np.random.randint(20, size=(2,1))\n",
    "print(beta_init)"
   ]
  },
  {
   "cell_type": "code",
   "execution_count": 11,
   "metadata": {},
   "outputs": [],
   "source": [
    "beta_dg, cout_dg, beta_hist_dg = gradient_descent(X, y, \n",
    "                                         beta_init, \n",
    "                                         learning_rate=0.1)"
   ]
  },
  {
   "cell_type": "markdown",
   "metadata": {},
   "source": [
    "Paramètre estimée par la descente de gradient : "
   ]
  },
  {
   "cell_type": "code",
   "execution_count": 12,
   "metadata": {
    "scrolled": true
   },
   "outputs": [
    {
     "name": "stdout",
     "output_type": "stream",
     "text": [
      "[[40.7282697 ]\n",
      " [-3.27314989]]\n"
     ]
    }
   ],
   "source": [
    "print(beta)"
   ]
  },
  {
   "cell_type": "markdown",
   "metadata": {},
   "source": [
    "Erreur du modèle selon les itérations : "
   ]
  },
  {
   "cell_type": "code",
   "execution_count": 13,
   "metadata": {
    "scrolled": false
   },
   "outputs": [
    {
     "data": {
      "image/png": "[encoded data removed]",
      "text/plain": [
       "<Figure size 432x288 with 1 Axes>"
      ]
     },
     "metadata": {
      "needs_background": "light"
     },
     "output_type": "display_data"
    }
   ],
   "source": [
    "plt.plot(range(100),cout_dg, 'r.');"
   ]
  },
  {
   "cell_type": "markdown",
   "metadata": {},
   "source": [
    "Paramètre estimée des MCO : "
   ]
  },
  {
   "cell_type": "code",
   "execution_count": 14,
   "metadata": {},
   "outputs": [
    {
     "data": {
      "text/plain": [
       "array([[40.7282697 ],\n",
       "       [-3.27314989]])"
      ]
     },
     "execution_count": 14,
     "metadata": {},
     "output_type": "execute_result"
    }
   ],
   "source": [
    "beta_mco = mco(X,y)\n",
    "beta_mco"
   ]
  },
  {
   "cell_type": "markdown",
   "metadata": {},
   "source": [
    "# Stochastic Gradient Descent "
   ]
  },
  {
   "cell_type": "markdown",
   "metadata": {},
   "source": [
    "Lors d'une Descente de gradient, **un lot** représente le **nombre total d'exemples utilisés pour calculer le gradient** à chaque itération. Pour la descente de Gradient \"Vanilla\" ou \"Batch\" le lot correspondait à l'intégralité de l'ensemble de données. Mais : \n",
    "\n",
    "-  Lorsque le lot est très important, la durée des calculs pour une simple itération peut être longue.\n",
    "- Un ensemble de données important contient généralement des données redondantes.\n",
    "\n",
    "La **Descente de Gradient Stochastique** (SGD) effectue une mise à jour des paramètres pour **chaque exemple d'entraînement** $x(i)$ et l'étiquette $y(i)$. Ainsi, elle n'utilise qu'un exemple à la fois (un lot dont la taille est 1) par itération. Si le nombre d'itérations est assez important, la SGD fonctionne, tout en générant beaucoup de bruit. \n",
    "\n",
    "*Le terme \"stochastique\" signifie que l'exemple constituant chaque lot est sélectionné de façon aléatoire.*\n"
   ]
  },
  {
   "cell_type": "markdown",
   "metadata": {},
   "source": [
    "La Descente de Gradient Stochastique peut se réécrire :"
   ]
  },
  {
   "cell_type": "markdown",
   "metadata": {},
   "source": [
    "$$ {\\begin{bmatrix}\\beta_{0,n+1}\\\\ \\beta_{1,n+1}\\end{bmatrix}} = {\\begin{bmatrix}\\beta_{0}\\\\ \\beta_{1}\\end{bmatrix}} - \\eta \\begin{bmatrix}2(\\beta_{0}+\\beta_{1}x_{i} - y_{i}) \\\\\n",
    "2x_i(\\beta_{0}+\\beta_{1}x_{i} - y_{i})\n",
    "\\end{bmatrix}$$"
   ]
  },
  {
   "cell_type": "markdown",
   "metadata": {},
   "source": [
    "Ou $i$ est une observation aléatoire."
   ]
  },
  {
   "cell_type": "code",
   "execution_count": 125,
   "metadata": {},
   "outputs": [],
   "source": [
    "def stochastic_gradient_descent(X,y,beta,learning_rate=0.01,iterations=10):\n",
    "    '''\n",
    "    X = Matrice de données avec colonne de biais\n",
    "    y = Vecteur des valeurs à prédire\n",
    "    beta = Vecteur de beta avec : np.random.randn(j,1)\n",
    "    learning_rate  = taux d'apprentissage pour fixer la vitesse de convergence\n",
    "    iterations = nombre d'iterations\n",
    "    \n",
    "    Retourne les coefficients beta estimés, un tableau de la loss\n",
    "    à chaque itération.\n",
    "    '''\n",
    "    \n",
    "    n = len(y)\n",
    "    cost_history = np.zeros(iterations)\n",
    "    \n",
    "    for it in range(iterations):\n",
    "        \n",
    "        # Choix de l'observation\n",
    "        rand_ind = np.random.randint(0,n)\n",
    "        X_i = X[rand_ind,:].reshape(1,X.shape[1])\n",
    "        y_i = y[rand_ind].reshape(1,1)\n",
    "\n",
    "         # Calcul de la prédiction de l'observation\n",
    "        prediction = np.dot(X_i,beta)\n",
    "        beta = beta - learning_rate * (X_i.T.dot((prediction - y_i)))\n",
    "        \n",
    "        cost_history[it] = loss(X, y, beta)\n",
    "        \n",
    "    return beta, cost_history"
   ]
  },
  {
   "cell_type": "markdown",
   "metadata": {},
   "source": [
    "Initalisation d'un vecteur aléatoire :"
   ]
  },
  {
   "cell_type": "code",
   "execution_count": 126,
   "metadata": {},
   "outputs": [],
   "source": [
    "beta_test = np.array([-100,-100]).reshape(2,1)"
   ]
  },
  {
   "cell_type": "code",
   "execution_count": 127,
   "metadata": {},
   "outputs": [
    {
     "name": "stdout",
     "output_type": "stream",
     "text": [
      "CPU times: user 7 µs, sys: 0 ns, total: 7 µs\n",
      "Wall time: 13.6 µs\n"
     ]
    }
   ],
   "source": [
    "beta_dg, cout_dg, beta_hist_dg = gradient_descent(X, y, \n",
    "                                         beta_test, \n",
    "                                         learning_rate=0.1, iterations=100)\n",
    "\n",
    "%time"
   ]
  },
  {
   "cell_type": "code",
   "execution_count": 134,
   "metadata": {},
   "outputs": [
    {
     "name": "stdout",
     "output_type": "stream",
     "text": [
      "CPU times: user 8 µs, sys: 1 µs, total: 9 µs\n",
      "Wall time: 14.1 µs\n"
     ]
    }
   ],
   "source": [
    "beta_sgd, cout_sgd = stochastic_gradient_descent(X,y, \n",
    "                                                 beta_test,\n",
    "                                                 learning_rate=0.1, iterations=100)\n",
    "\n",
    "%time"
   ]
  },
  {
   "cell_type": "markdown",
   "metadata": {},
   "source": [
    "Les paramètres estimés grâce à la **Descente de Gradient Stochastique** : "
   ]
  },
  {
   "cell_type": "code",
   "execution_count": 135,
   "metadata": {
    "scrolled": true
   },
   "outputs": [
    {
     "data": {
      "text/plain": [
       "array([[43.0883531 ],\n",
       "       [-6.51970772]])"
      ]
     },
     "execution_count": 135,
     "metadata": {},
     "output_type": "execute_result"
    }
   ],
   "source": [
    "beta_sgd"
   ]
  },
  {
   "cell_type": "markdown",
   "metadata": {},
   "source": [
    "Ils sont encore différents de la Descente de Gradient, car se trouve au voisinage du minimum local : "
   ]
  },
  {
   "cell_type": "code",
   "execution_count": 136,
   "metadata": {
    "scrolled": false
   },
   "outputs": [
    {
     "data": {
      "text/plain": [
       "array([[40.7282697 ],\n",
       "       [-3.27314989]])"
      ]
     },
     "execution_count": 136,
     "metadata": {},
     "output_type": "execute_result"
    }
   ],
   "source": [
    "beta_mco"
   ]
  },
  {
   "cell_type": "markdown",
   "metadata": {},
   "source": [
    "On peut voir que que la Descente de Gradient Stochastique se rapproche du minimum plus rapidement."
   ]
  },
  {
   "cell_type": "code",
   "execution_count": 137,
   "metadata": {
    "scrolled": true
   },
   "outputs": [
    {
     "data": {
      "image/png": "[encoded data removed]",
      "text/plain": [
       "<Figure size 432x288 with 1 Axes>"
      ]
     },
     "metadata": {
      "needs_background": "light"
     },
     "output_type": "display_data"
    }
   ],
   "source": [
    "plt.plot(range(len(cout_dg)), cout_dg, 'b.', zorder=3, label='Gradient Descent');\n",
    "plt.plot(range(len(cout_sgd)), cout_sgd, 'g.', label='Stochastic Gradient Descent', zorder=3)\n",
    "plt.legend();"
   ]
  },
  {
   "cell_type": "markdown",
   "metadata": {},
   "source": [
    "# Mini Batch Gradient Descent "
   ]
  },
  {
   "cell_type": "markdown",
   "metadata": {},
   "source": [
    "La descente de **Gradient par mini-lots** est un compromis entre l'itération en batch (lots entiers) et la Descente de Gradient Stochastique (1 observation à la fois).\n",
    "\n",
    "- Un mini-lot comprend généralement un petit nombre d'exemples sélectionnés aléatoirement (16 généralement). \n",
    "\n",
    "Le **Mini Batch Gradient Descent** limite la quantité de bruit (diminue la variance des paramètres estimés) comparé à la Descente de Gradient Stochastique tout en restant plus efficace en termes de calcul que le traitement de lots entiers."
   ]
  },
  {
   "cell_type": "code",
   "execution_count": 22,
   "metadata": {},
   "outputs": [],
   "source": [
    "def choice_batch(X,y,len_batch=16):\n",
    "    '''\n",
    "    Permet de sélectionner aléatoirement n observation(s) aléatoire(s) \n",
    "    d'un jeu de données.\n",
    "    \n",
    "    Parameters : \n",
    "    ---------------\n",
    "    X = Matrice de données avec colonne de biais\n",
    "    y = Vecteur de valeur à prédire \n",
    "    len_batch = Taille du sous-échantillon \n",
    "    \n",
    "    \n",
    "    Return :\n",
    "    -------------\n",
    "    Retourne un tableau n du sous-échantillon de X et de y.\n",
    "    \n",
    "    \n",
    "    '''\n",
    "    x_sample = []\n",
    "    y_sample = []\n",
    "    \n",
    "    list_indice = np.random.randint(X.shape[0], size=(len_batch,1)).flatten()\n",
    "    \n",
    "    for i in list_indice:\n",
    "        x_sample.append(X[i])\n",
    "        y_sample.append(y[i])\n",
    "    \n",
    "    return np.array(x_sample), np.array(y_sample)"
   ]
  },
  {
   "cell_type": "code",
   "execution_count": 23,
   "metadata": {},
   "outputs": [],
   "source": [
    "def mini_batch_gradient_descent(X,y,beta,learning_rate=0.01,iterations=1000, batch=16):\n",
    "    '''\n",
    "    X = Matrice de données avec colonne de biais\n",
    "    y = Vecteur des valeurs à prédire\n",
    "    beta = Vecteur de beta initial avec : np.random.randn(j,1)\n",
    "    learning_rate  = taux d'apprentissage pour fixer la vitesse de convergence\n",
    "    iterations = nombre d'iterations\n",
    "    batch = taille de l'échantillon aléatoire utilisé\n",
    "    \n",
    "    Retourne les coefficients beta estimés, un tableau de la loss\n",
    "    à chaque itération.\n",
    "    '''\n",
    "    \n",
    "    n = len(y)\n",
    "    cost_history = np.zeros(iterations)\n",
    "    \n",
    "    for it in range(iterations):\n",
    "        \n",
    "        # Choix de l'observation\n",
    "        \n",
    "        X_i, y_i = choice_batch(X,y,batch)\n",
    "        \n",
    "        # Calcul de la prédiction de l'observation\n",
    "        prediction = np.dot(X_i,beta)\n",
    "        \n",
    "        beta = beta - learning_rate * (1/batch) * (X_i.T.dot((prediction - y_i)))\n",
    "        \n",
    "        cost_history[it] = loss(X,y,beta)\n",
    "        \n",
    "    return beta, cost_history"
   ]
  },
  {
   "cell_type": "markdown",
   "metadata": {},
   "source": [
    "On peut lancer une Descente de Gradient avec un mini batch de 8 observations : "
   ]
  },
  {
   "cell_type": "code",
   "execution_count": 138,
   "metadata": {
    "scrolled": true
   },
   "outputs": [
    {
     "name": "stdout",
     "output_type": "stream",
     "text": [
      "CPU times: user 2 µs, sys: 0 ns, total: 2 µs\n",
      "Wall time: 3.1 µs\n"
     ]
    }
   ],
   "source": [
    "beta_minibatch, cost_batch = mini_batch_gradient_descent(X,y, beta_test, \n",
    "                                                         learning_rate=0.1, iterations=100, batch=8)\n",
    "\n",
    "%time"
   ]
  },
  {
   "cell_type": "markdown",
   "metadata": {},
   "source": [
    "Les paramètres estimés sont encore différents de ceux des MCO, même après de nombreuses itérations et un pas plus faible."
   ]
  },
  {
   "cell_type": "code",
   "execution_count": 139,
   "metadata": {
    "scrolled": true
   },
   "outputs": [
    {
     "data": {
      "text/plain": [
       "array([[36.20244141],\n",
       "       [-1.32452317]])"
      ]
     },
     "execution_count": 139,
     "metadata": {},
     "output_type": "execute_result"
    }
   ],
   "source": [
    "beta_minibatch"
   ]
  },
  {
   "cell_type": "code",
   "execution_count": 140,
   "metadata": {},
   "outputs": [
    {
     "data": {
      "text/plain": [
       "array([[40.7282697 ],\n",
       "       [-3.27314989]])"
      ]
     },
     "execution_count": 140,
     "metadata": {},
     "output_type": "execute_result"
    }
   ],
   "source": [
    "beta_mco"
   ]
  },
  {
   "cell_type": "markdown",
   "metadata": {},
   "source": [
    "On peut afficher les courbes de Loss pour les 3 types de Descentes de Gradient et les droites estimés :"
   ]
  },
  {
   "cell_type": "code",
   "execution_count": 141,
   "metadata": {
    "scrolled": false
   },
   "outputs": [
    {
     "data": {
      "image/png": "[encoded data removed]",
      "text/plain": [
       "<Figure size 720x432 with 3 Axes>"
      ]
     },
     "metadata": {
      "needs_background": "light"
     },
     "output_type": "display_data"
    }
   ],
   "source": [
    "plt.figure(figsize=(10,6))\n",
    "plt.title(\"Comparaison des différentes Descente de Gradient\")\n",
    "\n",
    "plt.subplot(311)\n",
    "plt.plot(range(len(cout_dg)), cout_dg, 'b', zorder= 3, label='Gradient Descent')\n",
    "plt.subplot(312)\n",
    "plt.plot(range(len(cout_sgd)), cout_sgd, 'g', label='Stochastic Gradient Descent')\n",
    "plt.subplot(313)\n",
    "plt.plot(range(len(cost_batch)), cost_batch, 'r', label='Mini-Batch (16) Gradient Descent')\n",
    "plt.tight_layout()"
   ]
  },
  {
   "cell_type": "code",
   "execution_count": 142,
   "metadata": {},
   "outputs": [
    {
     "data": {
      "image/png": "[encoded data removed]",
      "text/plain": [
       "<Figure size 864x576 with 1 Axes>"
      ]
     },
     "metadata": {
      "needs_background": "light"
     },
     "output_type": "display_data"
    }
   ],
   "source": [
    "plt.figure(figsize=(12,8))\n",
    "plt.scatter(x,y, c='b')\n",
    "plt.plot(x, X.dot(beta_dg), label='Descente de Gradient')\n",
    "plt.plot(x, X.dot(beta_minibatch), label='Mini Batch')\n",
    "plt.plot(x,X.dot(beta_sgd), label='SGD',c='yellow')\n",
    "plt.plot(x,y_predict, label='MCO', lw=10, zorder=-3)\n",
    "plt.legend();"
   ]
  },
  {
   "cell_type": "markdown",
   "metadata": {},
   "source": [
    "Les Descentes de Gradient par Mini-batch et Stochastique ne garantissent pas forcément une bonne convergence de l'algorithme. Pour cela il existe différents algorithme d'optimistion de ces Descente de Gradient : "
   ]
  },
  {
   "cell_type": "markdown",
   "metadata": {},
   "source": [
    "**Momemtum** :"
   ]
  },
  {
   "cell_type": "markdown",
   "metadata": {},
   "source": [
    "Le momentum est une méthode qui permet d'accélérer le SGD dans la direction appropriée et d'amortir\n",
    "l'oscillation. "
   ]
  },
  {
   "cell_type": "code",
   "execution_count": 112,
   "metadata": {},
   "outputs": [],
   "source": [
    "def momemtum(X,y,beta,learning_rate=0.01,iterations=10, rho=1):\n",
    "    '''\n",
    "    X = Matrice de données avec colonne de biais\n",
    "    y = Vecteur des valeurs à prédire\n",
    "    beta = Vecteur de beta avec : np.random.randn(j,1)\n",
    "    learning_rate  = taux d'apprentissage pour fixer la vitesse de convergence\n",
    "    iterations = nombre d'iterations\n",
    "    rho = \n",
    "    \n",
    "    Retourne les coefficients beta estimés, un tableau de la loss\n",
    "    à chaque itération.\n",
    "    '''\n",
    "    \n",
    "    n = len(y)\n",
    "    cost_history = np.zeros(iterations)\n",
    "    vbeta = 0\n",
    "    \n",
    "    for it in range(iterations):\n",
    "        \n",
    "        # Choix de l'observation\n",
    "        rand_ind = np.random.randint(0,n)\n",
    "        X_i = X[rand_ind,:].reshape(1,X.shape[1])\n",
    "        y_i = y[rand_ind].reshape(1,1)\n",
    "\n",
    "        # Calcul de la prédiction de l'observation\n",
    "        prediction = np.dot(X_i,beta)\n",
    "        \n",
    "        vbeta = rho * vbeta + (X_i.T.dot((prediction - y_i)))\n",
    "        beta = beta - learning_rate * vbeta \n",
    "        \n",
    "        cost_history[it] = loss(X, y, beta)\n",
    "        \n",
    "    return beta, cost_history"
   ]
  },
  {
   "cell_type": "code",
   "execution_count": 145,
   "metadata": {},
   "outputs": [],
   "source": [
    "mom_beta = []\n",
    "mom_loss = []\n",
    "rho = []\n",
    "\n",
    "for i in np.arange(0,1,0.2):\n",
    "    a,z = momemtum(X,y,beta_test, learning_rate=0.1, iterations=100,rho=i)\n",
    "    \n",
    "    rho.append(i)\n",
    "    mom_beta.append(a)\n",
    "    mom_loss.append(z)"
   ]
  },
  {
   "cell_type": "code",
   "execution_count": 146,
   "metadata": {
    "scrolled": true
   },
   "outputs": [
    {
     "data": {
      "image/png": "[encoded data removed]",
      "text/plain": [
       "<Figure size 432x288 with 1 Axes>"
      ]
     },
     "metadata": {
      "needs_background": "light"
     },
     "output_type": "display_data"
    }
   ],
   "source": [
    "for i in mom_loss:\n",
    "    plt.plot(range(len(i)), i, label='$\\rho = i$')\n",
    "\n",
    "plt.legend(np.round(rho,1));"
   ]
  },
  {
   "cell_type": "code",
   "execution_count": 111,
   "metadata": {},
   "outputs": [
    {
     "name": "stdout",
     "output_type": "stream",
     "text": [
      "Rho = 0.1 : [32.89775122 -5.22655863]\n",
      "Rho = 0.3 : [ 37.06304813 -16.12586511]\n",
      "Rho = 0.5 : [39.6550724   0.61391644]\n",
      "Rho = 0.7 : [38.34890224 -2.78319422]\n",
      "Rho = 0.9 : [-178.22558601  151.54958162]\n"
     ]
    }
   ],
   "source": [
    "for i,j in zip(mom_beta, rho) : \n",
    "    print('Rho =',np.round(j,1),':',i.flatten())"
   ]
  },
  {
   "cell_type": "markdown",
   "metadata": {},
   "source": [
    "**AdaGrad** :"
   ]
  },
  {
   "cell_type": "markdown",
   "metadata": {},
   "source": [
    "**Adam** :"
   ]
  }
 ],
 "metadata": {
  "kernelspec": {
   "display_name": "Python 3",
   "language": "python",
   "name": "python3"
  },
  "language_info": {
   "codemirror_mode": {
    "name": "ipython",
    "version": 3
   },
   "file_extension": ".py",
   "mimetype": "text/x-python",
   "name": "python",
   "nbconvert_exporter": "python",
   "pygments_lexer": "ipython3",
   "version": "3.7.3"
  }
 },
 "nbformat": 4,
 "nbformat_minor": 2
}
